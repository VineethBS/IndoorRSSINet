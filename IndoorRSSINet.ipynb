{
 "cells": [
  {
   "cell_type": "code",
   "execution_count": 1,
   "id": "e750084d",
   "metadata": {},
   "outputs": [],
   "source": [
    "import warnings\n",
    "warnings.filterwarnings('ignore')"
   ]
  },
  {
   "cell_type": "code",
   "execution_count": 1,
   "id": "485da030",
   "metadata": {},
   "outputs": [
    {
     "name": "stderr",
     "output_type": "stream",
     "text": [
      "2021-12-03 14:52:02.095411: W tensorflow/stream_executor/platform/default/dso_loader.cc:64] Could not load dynamic library 'libcudart.so.11.0'; dlerror: libcudart.so.11.0: cannot open shared object file: No such file or directory\n",
      "2021-12-03 14:52:02.095457: I tensorflow/stream_executor/cuda/cudart_stub.cc:29] Ignore above cudart dlerror if you do not have a GPU set up on your machine.\n"
     ]
    }
   ],
   "source": [
    "import os\n",
    "import sys\n",
    "import random\n",
    "import pandas as pd\n",
    "import numpy as np\n",
    "import matplotlib.pyplot as plt\n",
    "from mpl_toolkits.axes_grid1 import make_axes_locatable\n",
    "\n",
    "from tqdm import tqdm_notebook, tnrange\n",
    "from itertools import chain\n",
    "from skimage.io import imread, imshow, concatenate_images\n",
    "from skimage.transform import resize\n",
    "from skimage.morphology import label\n",
    "from sklearn.model_selection import train_test_split\n",
    "\n",
    "import tensorflow as tf\n",
    "\n",
    "from tensorflow.keras.models import Model, load_model\n",
    "from keras.layers import Input, BatchNormalization, Activation, Dense, Dropout,Multiply,Add\n",
    "from keras.layers.core import Lambda, RepeatVector, Reshape\n",
    "from keras.layers.convolutional import Conv2D, Conv2DTranspose\n",
    "from keras.layers.pooling import MaxPooling2D, GlobalMaxPool2D\n",
    "from keras.layers.merge import concatenate, add\n",
    "from keras.callbacks import EarlyStopping, ModelCheckpoint, ReduceLROnPlateau\n",
    "from tensorflow.keras.optimizers import Adam\n",
    "from keras.preprocessing.image import ImageDataGenerator, array_to_img, img_to_array, load_img"
   ]
  },
  {
   "cell_type": "code",
   "execution_count": 2,
   "id": "7af851bd",
   "metadata": {},
   "outputs": [],
   "source": [
    "# Set some parameters\n",
    "im_width = 256\n",
    "im_height = 256\n",
    "path_train = 'IndoorRSSINet_Dataset/'"
   ]
  },
  {
   "cell_type": "code",
   "execution_count": 3,
   "id": "1260d3a9",
   "metadata": {},
   "outputs": [
    {
     "name": "stdout",
     "output_type": "stream",
     "text": [
      "Getting and resizing images ... \n"
     ]
    },
    {
     "name": "stderr",
     "output_type": "stream",
     "text": [
      "/tmp/ipykernel_3473/1034834181.py:12: TqdmDeprecationWarning: This function will be removed in tqdm==5.0.0\n",
      "Please use `tqdm.notebook.tqdm` instead of `tqdm.tqdm_notebook`\n",
      "  for n, id_ in tqdm_notebook(enumerate(ids), total=len(ids)):\n"
     ]
    },
    {
     "data": {
      "application/vnd.jupyter.widget-view+json": {
       "model_id": "43ce682e868d44e08c452641fe158592",
       "version_major": 2,
       "version_minor": 0
      },
      "text/plain": [
       "  0%|          | 0/201 [00:00<?, ?it/s]"
      ]
     },
     "metadata": {},
     "output_type": "display_data"
    },
    {
     "name": "stderr",
     "output_type": "stream",
     "text": [
      "/home/nibin/anaconda3/lib/python3.9/site-packages/keras_preprocessing/image/utils.py:107: UserWarning: grayscale is deprecated. Please use color_mode = \"grayscale\"\n",
      "  warnings.warn('grayscale is deprecated. Please use '\n"
     ]
    },
    {
     "name": "stdout",
     "output_type": "stream",
     "text": [
      "Done!\n"
     ]
    }
   ],
   "source": [
    "# Get and resize train images and masks\n",
    "def get_data(path, train=True):\n",
    "    ids = next(os.walk(path + \"Transmitter_position_Image\"))[2]\n",
    "    ids=sorted(ids)\n",
    "    ids2= next(os.walk(path + \"RSSI_data\"))[2]\n",
    "    ids2=sorted(ids2)\n",
    "    X = np.zeros((len(ids), im_height, im_width, 1), dtype=np.float32)\n",
    "    Lay = np.zeros((len(ids), im_height, im_width, 1), dtype=np.float32)\n",
    "    if train:\n",
    "        y = np.zeros((len(ids), im_height, im_width, 1), dtype=np.float32)\n",
    "    print('Getting and resizing images ... ')\n",
    "    for n, id_ in tqdm_notebook(enumerate(ids), total=len(ids)):\n",
    "        # Load images\n",
    "        img = load_img(path + '/Transmitter_position_Image/' + id_, grayscale=True)\n",
    "        x_img = img_to_array(img)\n",
    "        x_img = resize(x_img, (im_height, im_width, 1),anti_aliasing=False, order=0, mode='constant', preserve_range=True)\n",
    "        x_img_max=np.amax(x_img)\n",
    "        x_img_min=np.amin(x_img)\n",
    "        \n",
    "        layout = load_img(path + '/Room_plan/' + id_, grayscale=True)\n",
    "        layout_img = img_to_array(layout)\n",
    "        layout_img = resize(layout_img, (im_height, im_width, 1),anti_aliasing=False, order=0, mode='constant', preserve_range=True)\n",
    "        layout_img_max = np.amax(layout_img)\n",
    "        layout_img_min = np.amin(layout_img)   \n",
    "        \n",
    "        # Load masks\n",
    "        if train:\n",
    "            heatmap = pd.read_csv(path + '/RSSI_data/' + ids2[n])\n",
    "            heatmap = heatmap.to_numpy()\n",
    "            heatmap = resize(heatmap, (im_height, im_width, 1),anti_aliasing=False, order=0, mode='constant', preserve_range=True)\n",
    "        \n",
    "        # Save images\n",
    "        X[n, ..., 0] = ((x_img - x_img_min) / (x_img_max - x_img_min)).squeeze()\n",
    "        heatmap_max = np.amax(heatmap)\n",
    "        heatmap_min = np.amin(heatmap)\n",
    "        \n",
    "        Lay[n, ..., 0] = ((layout_img - layout_img_min) / (layout_img_max - layout_img_min)).squeeze()\n",
    "        if train:\n",
    "            y[n] = ((heatmap-heatmap_min)/(heatmap_max - heatmap_min))**2  \n",
    "    print('Done!')\n",
    "    \n",
    "    if train:\n",
    "        return X, Lay, y\n",
    "    else:\n",
    "        return X,Lay\n",
    "    \n",
    "X, Lay, y = get_data(path_train, train=True)"
   ]
  },
  {
   "cell_type": "code",
   "execution_count": 4,
   "id": "b9ad163c",
   "metadata": {},
   "outputs": [],
   "source": [
    "# Split train and valid\n",
    "X_train, X_valid, y_train, y_valid = train_test_split(X, y, test_size=0.15, random_state=2018)\n",
    "X_train, X_valid, Lay_train, Lay_valid = train_test_split(X, Lay, test_size=0.15, random_state=2018)"
   ]
  },
  {
   "cell_type": "code",
   "execution_count": 5,
   "id": "a0728106",
   "metadata": {},
   "outputs": [
    {
     "data": {
      "image/png": "[encoded data removed]",
      "text/plain": [
       "<Figure size 720x720 with 2 Axes>"
      ]
     },
     "metadata": {},
     "output_type": "display_data"
    }
   ],
   "source": [
    "\n",
    "ix = random.randint(0, len(X_train)); \n",
    "has_mask = y_train[ix].max() > 0\n",
    "fig, ax = plt.subplots(1, 2, figsize=(10, 10))\n",
    "ax[0].imshow(X_train[ix, ..., 0],interpolation='bilinear',cmap='gray')\n",
    "\n",
    "a=ax[1].imshow(y_train[ix].squeeze(), interpolation='bilinear', cmap='jet')\n",
    "ax[0].grid(False)\n",
    "# Hide axes ticks\n",
    "ax[0].set_xticks([]);\n",
    "ax[0].set_yticks([]);\n",
    "\n",
    "ax[1].grid(False)\n",
    "# Hide axes ticks\n",
    "ax[1].set_xticks([]);\n",
    "ax[1].set_yticks([]);"
   ]
  },
  {
   "cell_type": "code",
   "execution_count": 6,
   "id": "c8002403",
   "metadata": {},
   "outputs": [],
   "source": [
    "def conv2d_block(input_tensor, n_filters, kernel_size=3, batchnorm=True):\n",
    "    # first layer\n",
    "    x = Conv2D(filters=n_filters, kernel_size=(kernel_size, kernel_size), kernel_initializer=\"he_normal\",\n",
    "               padding=\"same\")(input_tensor)\n",
    "    if batchnorm:\n",
    "        x = BatchNormalization()(x)\n",
    "    x = Activation(\"relu\")(x)\n",
    "#     second layer\n",
    "    x = Conv2D(filters=n_filters, kernel_size=(kernel_size, kernel_size), kernel_initializer=\"he_normal\",\n",
    "               padding=\"same\")(x)\n",
    "    if batchnorm:\n",
    "        x = BatchNormalization()(x)\n",
    "    x = Activation(\"relu\")(x)\n",
    "#     third layer\n",
    "    x = Conv2D(filters=n_filters, kernel_size=(kernel_size, kernel_size), kernel_initializer=\"he_normal\",\n",
    "               padding=\"same\")(x)\n",
    "    if batchnorm:\n",
    "        x = BatchNormalization()(x)\n",
    "    x = Activation(\"relu\")(x)\n",
    "# #     4th layer\n",
    "    x = Conv2D(filters=n_filters, kernel_size=(kernel_size, kernel_size), kernel_initializer=\"he_normal\",\n",
    "               padding=\"same\")(x)\n",
    "    if batchnorm:\n",
    "        x = BatchNormalization()(x)\n",
    "    x = Activation(\"relu\")(x)\n",
    "\n",
    "    return x\n"
   ]
  },
  {
   "cell_type": "code",
   "execution_count": 7,
   "id": "a2bfd214",
   "metadata": {},
   "outputs": [],
   "source": [
    "def get_rssinet1(input_img, n_filters=8, dropout=0.5, batchnorm=True):\n",
    "    # contracting path\n",
    "    c1 = conv2d_block(input_img, n_filters=n_filters*1, kernel_size=3, batchnorm=batchnorm)\n",
    "    p1 = MaxPooling2D((2, 2)) (c1)\n",
    "    p1 = Dropout(dropout*0.5)(p1)\n",
    "\n",
    "    c2 = conv2d_block(p1, n_filters=n_filters*2, kernel_size=3, batchnorm=batchnorm)\n",
    "    p2 = MaxPooling2D((2, 2)) (c2)\n",
    "    p2 = Dropout(dropout)(p2)\n",
    "\n",
    "    c3 = conv2d_block(p2, n_filters=n_filters*4, kernel_size=3, batchnorm=batchnorm)\n",
    "    p3 = MaxPooling2D((2, 2)) (c3)\n",
    "    p3 = Dropout(dropout)(p3)\n",
    "\n",
    "    c4 = conv2d_block(p3, n_filters=n_filters*8, kernel_size=3, batchnorm=batchnorm)\n",
    "    p4 = MaxPooling2D(pool_size=(2, 2)) (c4)\n",
    "    p4 = Dropout(dropout)(p4)\n",
    "    #bottleneck\n",
    "    c5 = conv2d_block(p4, n_filters=n_filters*16, kernel_size=3, batchnorm=batchnorm)\n",
    "    \n",
    "    #Expanding path\n",
    "    u6 = Conv2DTranspose(n_filters*8, (3, 3), strides=(2, 2), padding='same') (c5)\n",
    "    u6 = concatenate([u6, c4])\n",
    "    u6 = Dropout(dropout)(u6)\n",
    "    c6 = conv2d_block(u6, n_filters=n_filters*8, kernel_size=3, batchnorm=batchnorm)\n",
    "\n",
    "    u7 = Conv2DTranspose(n_filters*4, (3, 3), strides=(2, 2), padding='same') (c6)\n",
    "    u7 = concatenate([u7, c3])\n",
    "    u7 = Dropout(dropout)(u7)\n",
    "    c7 = conv2d_block(u7, n_filters=n_filters*4, kernel_size=3, batchnorm=batchnorm)\n",
    "\n",
    "    u8 = Conv2DTranspose(n_filters*2, (3, 3), strides=(2, 2), padding='same') (c7)\n",
    "    u8 = concatenate([u8, c2])\n",
    "    u8 = Dropout(dropout)(u8)\n",
    "    c8 = conv2d_block(u8, n_filters=n_filters*2, kernel_size=3, batchnorm=batchnorm)\n",
    "\n",
    "    u9 = Conv2DTranspose(n_filters*1, (3, 3), strides=(2, 2), padding='same') (c8)\n",
    "    u9 = concatenate([u9, c1], axis=3)\n",
    "    u9 = Dropout(dropout)(u9)\n",
    "    c9 = conv2d_block(u9, n_filters=n_filters*1, kernel_size=3, batchnorm=batchnorm)\n",
    "    \n",
    "    outputs = Conv2D(1, (1, 1), activation='sigmoid') (c9)\n",
    "    \n",
    "    model = Model(inputs=[input_img], outputs=[outputs])\n",
    "    return model"
   ]
  },
  {
   "cell_type": "markdown",
   "id": "bd2eaa67",
   "metadata": {},
   "source": [
    "# Training the RSSINET-I"
   ]
  },
  {
   "cell_type": "code",
   "execution_count": 8,
   "id": "8105e918",
   "metadata": {},
   "outputs": [
    {
     "name": "stderr",
     "output_type": "stream",
     "text": [
      "2021-12-03 14:52:13.484354: W tensorflow/stream_executor/platform/default/dso_loader.cc:64] Could not load dynamic library 'libcudart.so.11.0'; dlerror: libcudart.so.11.0: cannot open shared object file: No such file or directory\n",
      "2021-12-03 14:52:13.484434: W tensorflow/stream_executor/platform/default/dso_loader.cc:64] Could not load dynamic library 'libcublas.so.11'; dlerror: libcublas.so.11: cannot open shared object file: No such file or directory\n",
      "2021-12-03 14:52:13.484479: W tensorflow/stream_executor/platform/default/dso_loader.cc:64] Could not load dynamic library 'libcublasLt.so.11'; dlerror: libcublasLt.so.11: cannot open shared object file: No such file or directory\n",
      "2021-12-03 14:52:13.484524: W tensorflow/stream_executor/platform/default/dso_loader.cc:64] Could not load dynamic library 'libcufft.so.10'; dlerror: libcufft.so.10: cannot open shared object file: No such file or directory\n",
      "2021-12-03 14:52:13.484569: W tensorflow/stream_executor/platform/default/dso_loader.cc:64] Could not load dynamic library 'libcurand.so.10'; dlerror: libcurand.so.10: cannot open shared object file: No such file or directory\n",
      "2021-12-03 14:52:13.484613: W tensorflow/stream_executor/platform/default/dso_loader.cc:64] Could not load dynamic library 'libcusolver.so.11'; dlerror: libcusolver.so.11: cannot open shared object file: No such file or directory\n",
      "2021-12-03 14:52:13.484657: W tensorflow/stream_executor/platform/default/dso_loader.cc:64] Could not load dynamic library 'libcusparse.so.11'; dlerror: libcusparse.so.11: cannot open shared object file: No such file or directory\n",
      "2021-12-03 14:52:13.484702: W tensorflow/stream_executor/platform/default/dso_loader.cc:64] Could not load dynamic library 'libcudnn.so.8'; dlerror: libcudnn.so.8: cannot open shared object file: No such file or directory\n",
      "2021-12-03 14:52:13.484711: W tensorflow/core/common_runtime/gpu/gpu_device.cc:1850] Cannot dlopen some GPU libraries. Please make sure the missing libraries mentioned above are installed properly if you would like to use GPU. Follow the guide at https://www.tensorflow.org/install/gpu for how to download and setup the required libraries for your platform.\n",
      "Skipping registering GPU devices...\n",
      "2021-12-03 14:52:13.484971: I tensorflow/core/platform/cpu_feature_guard.cc:151] This TensorFlow binary is optimized with oneAPI Deep Neural Network Library (oneDNN) to use the following CPU instructions in performance-critical operations:  AVX2 AVX512F FMA\n",
      "To enable them in other operations, rebuild TensorFlow with the appropriate compiler flags.\n"
     ]
    },
    {
     "name": "stdout",
     "output_type": "stream",
     "text": [
      "Model: \"model\"\n",
      "__________________________________________________________________________________________________\n",
      " Layer (type)                   Output Shape         Param #     Connected to                     \n",
      "==================================================================================================\n",
      " img (InputLayer)               [(None, 256, 256, 1  0           []                               \n",
      "                                )]                                                                \n",
      "                                                                                                  \n",
      " conv2d (Conv2D)                (None, 256, 256, 8)  80          ['img[0][0]']                    \n",
      "                                                                                                  \n",
      " batch_normalization (BatchNorm  (None, 256, 256, 8)  32         ['conv2d[0][0]']                 \n",
      " alization)                                                                                       \n",
      "                                                                                                  \n",
      " activation (Activation)        (None, 256, 256, 8)  0           ['batch_normalization[0][0]']    \n",
      "                                                                                                  \n",
      " conv2d_1 (Conv2D)              (None, 256, 256, 8)  584         ['activation[0][0]']             \n",
      "                                                                                                  \n",
      " batch_normalization_1 (BatchNo  (None, 256, 256, 8)  32         ['conv2d_1[0][0]']               \n",
      " rmalization)                                                                                     \n",
      "                                                                                                  \n",
      " activation_1 (Activation)      (None, 256, 256, 8)  0           ['batch_normalization_1[0][0]']  \n",
      "                                                                                                  \n",
      " conv2d_2 (Conv2D)              (None, 256, 256, 8)  584         ['activation_1[0][0]']           \n",
      "                                                                                                  \n",
      " batch_normalization_2 (BatchNo  (None, 256, 256, 8)  32         ['conv2d_2[0][0]']               \n",
      " rmalization)                                                                                     \n",
      "                                                                                                  \n",
      " activation_2 (Activation)      (None, 256, 256, 8)  0           ['batch_normalization_2[0][0]']  \n",
      "                                                                                                  \n",
      " conv2d_3 (Conv2D)              (None, 256, 256, 8)  584         ['activation_2[0][0]']           \n",
      "                                                                                                  \n",
      " batch_normalization_3 (BatchNo  (None, 256, 256, 8)  32         ['conv2d_3[0][0]']               \n",
      " rmalization)                                                                                     \n",
      "                                                                                                  \n",
      " activation_3 (Activation)      (None, 256, 256, 8)  0           ['batch_normalization_3[0][0]']  \n",
      "                                                                                                  \n",
      " max_pooling2d (MaxPooling2D)   (None, 128, 128, 8)  0           ['activation_3[0][0]']           \n",
      "                                                                                                  \n",
      " dropout (Dropout)              (None, 128, 128, 8)  0           ['max_pooling2d[0][0]']          \n",
      "                                                                                                  \n",
      " conv2d_4 (Conv2D)              (None, 128, 128, 16  1168        ['dropout[0][0]']                \n",
      "                                )                                                                 \n",
      "                                                                                                  \n",
      " batch_normalization_4 (BatchNo  (None, 128, 128, 16  64         ['conv2d_4[0][0]']               \n",
      " rmalization)                   )                                                                 \n",
      "                                                                                                  \n",
      " activation_4 (Activation)      (None, 128, 128, 16  0           ['batch_normalization_4[0][0]']  \n",
      "                                )                                                                 \n",
      "                                                                                                  \n",
      " conv2d_5 (Conv2D)              (None, 128, 128, 16  2320        ['activation_4[0][0]']           \n",
      "                                )                                                                 \n",
      "                                                                                                  \n",
      " batch_normalization_5 (BatchNo  (None, 128, 128, 16  64         ['conv2d_5[0][0]']               \n",
      " rmalization)                   )                                                                 \n",
      "                                                                                                  \n",
      " activation_5 (Activation)      (None, 128, 128, 16  0           ['batch_normalization_5[0][0]']  \n",
      "                                )                                                                 \n",
      "                                                                                                  \n",
      " conv2d_6 (Conv2D)              (None, 128, 128, 16  2320        ['activation_5[0][0]']           \n",
      "                                )                                                                 \n",
      "                                                                                                  \n",
      " batch_normalization_6 (BatchNo  (None, 128, 128, 16  64         ['conv2d_6[0][0]']               \n",
      " rmalization)                   )                                                                 \n",
      "                                                                                                  \n",
      " activation_6 (Activation)      (None, 128, 128, 16  0           ['batch_normalization_6[0][0]']  \n",
      "                                )                                                                 \n",
      "                                                                                                  \n",
      " conv2d_7 (Conv2D)              (None, 128, 128, 16  2320        ['activation_6[0][0]']           \n",
      "                                )                                                                 \n",
      "                                                                                                  \n",
      " batch_normalization_7 (BatchNo  (None, 128, 128, 16  64         ['conv2d_7[0][0]']               \n",
      " rmalization)                   )                                                                 \n",
      "                                                                                                  \n",
      " activation_7 (Activation)      (None, 128, 128, 16  0           ['batch_normalization_7[0][0]']  \n",
      "                                )                                                                 \n",
      "                                                                                                  \n",
      " max_pooling2d_1 (MaxPooling2D)  (None, 64, 64, 16)  0           ['activation_7[0][0]']           \n",
      "                                                                                                  \n",
      " dropout_1 (Dropout)            (None, 64, 64, 16)   0           ['max_pooling2d_1[0][0]']        \n",
      "                                                                                                  \n",
      " conv2d_8 (Conv2D)              (None, 64, 64, 32)   4640        ['dropout_1[0][0]']              \n",
      "                                                                                                  \n",
      " batch_normalization_8 (BatchNo  (None, 64, 64, 32)  128         ['conv2d_8[0][0]']               \n",
      " rmalization)                                                                                     \n",
      "                                                                                                  \n",
      " activation_8 (Activation)      (None, 64, 64, 32)   0           ['batch_normalization_8[0][0]']  \n",
      "                                                                                                  \n",
      " conv2d_9 (Conv2D)              (None, 64, 64, 32)   9248        ['activation_8[0][0]']           \n",
      "                                                                                                  \n",
      " batch_normalization_9 (BatchNo  (None, 64, 64, 32)  128         ['conv2d_9[0][0]']               \n",
      " rmalization)                                                                                     \n",
      "                                                                                                  \n",
      " activation_9 (Activation)      (None, 64, 64, 32)   0           ['batch_normalization_9[0][0]']  \n",
      "                                                                                                  \n",
      " conv2d_10 (Conv2D)             (None, 64, 64, 32)   9248        ['activation_9[0][0]']           \n",
      "                                                                                                  \n",
      " batch_normalization_10 (BatchN  (None, 64, 64, 32)  128         ['conv2d_10[0][0]']              \n",
      " ormalization)                                                                                    \n",
      "                                                                                                  \n",
      " activation_10 (Activation)     (None, 64, 64, 32)   0           ['batch_normalization_10[0][0]'] \n",
      "                                                                                                  \n",
      " conv2d_11 (Conv2D)             (None, 64, 64, 32)   9248        ['activation_10[0][0]']          \n",
      "                                                                                                  \n",
      " batch_normalization_11 (BatchN  (None, 64, 64, 32)  128         ['conv2d_11[0][0]']              \n",
      " ormalization)                                                                                    \n",
      "                                                                                                  \n",
      " activation_11 (Activation)     (None, 64, 64, 32)   0           ['batch_normalization_11[0][0]'] \n",
      "                                                                                                  \n",
      " max_pooling2d_2 (MaxPooling2D)  (None, 32, 32, 32)  0           ['activation_11[0][0]']          \n",
      "                                                                                                  \n",
      " dropout_2 (Dropout)            (None, 32, 32, 32)   0           ['max_pooling2d_2[0][0]']        \n",
      "                                                                                                  \n",
      " conv2d_12 (Conv2D)             (None, 32, 32, 64)   18496       ['dropout_2[0][0]']              \n",
      "                                                                                                  \n",
      " batch_normalization_12 (BatchN  (None, 32, 32, 64)  256         ['conv2d_12[0][0]']              \n",
      " ormalization)                                                                                    \n",
      "                                                                                                  \n",
      " activation_12 (Activation)     (None, 32, 32, 64)   0           ['batch_normalization_12[0][0]'] \n",
      "                                                                                                  \n",
      " conv2d_13 (Conv2D)             (None, 32, 32, 64)   36928       ['activation_12[0][0]']          \n",
      "                                                                                                  \n",
      " batch_normalization_13 (BatchN  (None, 32, 32, 64)  256         ['conv2d_13[0][0]']              \n",
      " ormalization)                                                                                    \n",
      "                                                                                                  \n",
      " activation_13 (Activation)     (None, 32, 32, 64)   0           ['batch_normalization_13[0][0]'] \n",
      "                                                                                                  \n",
      " conv2d_14 (Conv2D)             (None, 32, 32, 64)   36928       ['activation_13[0][0]']          \n",
      "                                                                                                  \n",
      " batch_normalization_14 (BatchN  (None, 32, 32, 64)  256         ['conv2d_14[0][0]']              \n",
      " ormalization)                                                                                    \n",
      "                                                                                                  \n",
      " activation_14 (Activation)     (None, 32, 32, 64)   0           ['batch_normalization_14[0][0]'] \n",
      "                                                                                                  \n",
      " conv2d_15 (Conv2D)             (None, 32, 32, 64)   36928       ['activation_14[0][0]']          \n",
      "                                                                                                  \n",
      " batch_normalization_15 (BatchN  (None, 32, 32, 64)  256         ['conv2d_15[0][0]']              \n",
      " ormalization)                                                                                    \n",
      "                                                                                                  \n",
      " activation_15 (Activation)     (None, 32, 32, 64)   0           ['batch_normalization_15[0][0]'] \n",
      "                                                                                                  \n",
      " max_pooling2d_3 (MaxPooling2D)  (None, 16, 16, 64)  0           ['activation_15[0][0]']          \n",
      "                                                                                                  \n",
      " dropout_3 (Dropout)            (None, 16, 16, 64)   0           ['max_pooling2d_3[0][0]']        \n",
      "                                                                                                  \n",
      " conv2d_16 (Conv2D)             (None, 16, 16, 128)  73856       ['dropout_3[0][0]']              \n",
      "                                                                                                  \n",
      " batch_normalization_16 (BatchN  (None, 16, 16, 128)  512        ['conv2d_16[0][0]']              \n",
      " ormalization)                                                                                    \n",
      "                                                                                                  \n",
      " activation_16 (Activation)     (None, 16, 16, 128)  0           ['batch_normalization_16[0][0]'] \n",
      "                                                                                                  \n",
      " conv2d_17 (Conv2D)             (None, 16, 16, 128)  147584      ['activation_16[0][0]']          \n",
      "                                                                                                  \n",
      " batch_normalization_17 (BatchN  (None, 16, 16, 128)  512        ['conv2d_17[0][0]']              \n",
      " ormalization)                                                                                    \n",
      "                                                                                                  \n",
      " activation_17 (Activation)     (None, 16, 16, 128)  0           ['batch_normalization_17[0][0]'] \n",
      "                                                                                                  \n",
      " conv2d_18 (Conv2D)             (None, 16, 16, 128)  147584      ['activation_17[0][0]']          \n",
      "                                                                                                  \n",
      " batch_normalization_18 (BatchN  (None, 16, 16, 128)  512        ['conv2d_18[0][0]']              \n",
      " ormalization)                                                                                    \n",
      "                                                                                                  \n",
      " activation_18 (Activation)     (None, 16, 16, 128)  0           ['batch_normalization_18[0][0]'] \n",
      "                                                                                                  \n",
      " conv2d_19 (Conv2D)             (None, 16, 16, 128)  147584      ['activation_18[0][0]']          \n",
      "                                                                                                  \n",
      " batch_normalization_19 (BatchN  (None, 16, 16, 128)  512        ['conv2d_19[0][0]']              \n",
      " ormalization)                                                                                    \n",
      "                                                                                                  \n",
      " activation_19 (Activation)     (None, 16, 16, 128)  0           ['batch_normalization_19[0][0]'] \n",
      "                                                                                                  \n",
      " conv2d_transpose (Conv2DTransp  (None, 32, 32, 64)  73792       ['activation_19[0][0]']          \n",
      " ose)                                                                                             \n",
      "                                                                                                  \n",
      " concatenate (Concatenate)      (None, 32, 32, 128)  0           ['conv2d_transpose[0][0]',       \n",
      "                                                                  'activation_15[0][0]']          \n",
      "                                                                                                  \n",
      " dropout_4 (Dropout)            (None, 32, 32, 128)  0           ['concatenate[0][0]']            \n",
      "                                                                                                  \n",
      " conv2d_20 (Conv2D)             (None, 32, 32, 64)   73792       ['dropout_4[0][0]']              \n",
      "                                                                                                  \n",
      " batch_normalization_20 (BatchN  (None, 32, 32, 64)  256         ['conv2d_20[0][0]']              \n",
      " ormalization)                                                                                    \n",
      "                                                                                                  \n",
      " activation_20 (Activation)     (None, 32, 32, 64)   0           ['batch_normalization_20[0][0]'] \n",
      "                                                                                                  \n",
      " conv2d_21 (Conv2D)             (None, 32, 32, 64)   36928       ['activation_20[0][0]']          \n",
      "                                                                                                  \n",
      " batch_normalization_21 (BatchN  (None, 32, 32, 64)  256         ['conv2d_21[0][0]']              \n",
      " ormalization)                                                                                    \n",
      "                                                                                                  \n",
      " activation_21 (Activation)     (None, 32, 32, 64)   0           ['batch_normalization_21[0][0]'] \n",
      "                                                                                                  \n",
      " conv2d_22 (Conv2D)             (None, 32, 32, 64)   36928       ['activation_21[0][0]']          \n",
      "                                                                                                  \n",
      " batch_normalization_22 (BatchN  (None, 32, 32, 64)  256         ['conv2d_22[0][0]']              \n",
      " ormalization)                                                                                    \n",
      "                                                                                                  \n",
      " activation_22 (Activation)     (None, 32, 32, 64)   0           ['batch_normalization_22[0][0]'] \n",
      "                                                                                                  \n",
      " conv2d_23 (Conv2D)             (None, 32, 32, 64)   36928       ['activation_22[0][0]']          \n",
      "                                                                                                  \n",
      " batch_normalization_23 (BatchN  (None, 32, 32, 64)  256         ['conv2d_23[0][0]']              \n",
      " ormalization)                                                                                    \n",
      "                                                                                                  \n",
      " activation_23 (Activation)     (None, 32, 32, 64)   0           ['batch_normalization_23[0][0]'] \n",
      "                                                                                                  \n",
      " conv2d_transpose_1 (Conv2DTran  (None, 64, 64, 32)  18464       ['activation_23[0][0]']          \n",
      " spose)                                                                                           \n",
      "                                                                                                  \n",
      " concatenate_1 (Concatenate)    (None, 64, 64, 64)   0           ['conv2d_transpose_1[0][0]',     \n",
      "                                                                  'activation_11[0][0]']          \n",
      "                                                                                                  \n",
      " dropout_5 (Dropout)            (None, 64, 64, 64)   0           ['concatenate_1[0][0]']          \n",
      "                                                                                                  \n",
      " conv2d_24 (Conv2D)             (None, 64, 64, 32)   18464       ['dropout_5[0][0]']              \n",
      "                                                                                                  \n",
      " batch_normalization_24 (BatchN  (None, 64, 64, 32)  128         ['conv2d_24[0][0]']              \n",
      " ormalization)                                                                                    \n",
      "                                                                                                  \n",
      " activation_24 (Activation)     (None, 64, 64, 32)   0           ['batch_normalization_24[0][0]'] \n",
      "                                                                                                  \n",
      " conv2d_25 (Conv2D)             (None, 64, 64, 32)   9248        ['activation_24[0][0]']          \n",
      "                                                                                                  \n",
      " batch_normalization_25 (BatchN  (None, 64, 64, 32)  128         ['conv2d_25[0][0]']              \n",
      " ormalization)                                                                                    \n",
      "                                                                                                  \n",
      " activation_25 (Activation)     (None, 64, 64, 32)   0           ['batch_normalization_25[0][0]'] \n",
      "                                                                                                  \n",
      " conv2d_26 (Conv2D)             (None, 64, 64, 32)   9248        ['activation_25[0][0]']          \n",
      "                                                                                                  \n",
      " batch_normalization_26 (BatchN  (None, 64, 64, 32)  128         ['conv2d_26[0][0]']              \n",
      " ormalization)                                                                                    \n",
      "                                                                                                  \n",
      " activation_26 (Activation)     (None, 64, 64, 32)   0           ['batch_normalization_26[0][0]'] \n",
      "                                                                                                  \n",
      " conv2d_27 (Conv2D)             (None, 64, 64, 32)   9248        ['activation_26[0][0]']          \n",
      "                                                                                                  \n",
      " batch_normalization_27 (BatchN  (None, 64, 64, 32)  128         ['conv2d_27[0][0]']              \n",
      " ormalization)                                                                                    \n",
      "                                                                                                  \n",
      " activation_27 (Activation)     (None, 64, 64, 32)   0           ['batch_normalization_27[0][0]'] \n",
      "                                                                                                  \n",
      " conv2d_transpose_2 (Conv2DTran  (None, 128, 128, 16  4624       ['activation_27[0][0]']          \n",
      " spose)                         )                                                                 \n",
      "                                                                                                  \n",
      " concatenate_2 (Concatenate)    (None, 128, 128, 32  0           ['conv2d_transpose_2[0][0]',     \n",
      "                                )                                 'activation_7[0][0]']           \n",
      "                                                                                                  \n",
      " dropout_6 (Dropout)            (None, 128, 128, 32  0           ['concatenate_2[0][0]']          \n",
      "                                )                                                                 \n",
      "                                                                                                  \n",
      " conv2d_28 (Conv2D)             (None, 128, 128, 16  4624        ['dropout_6[0][0]']              \n",
      "                                )                                                                 \n",
      "                                                                                                  \n",
      " batch_normalization_28 (BatchN  (None, 128, 128, 16  64         ['conv2d_28[0][0]']              \n",
      " ormalization)                  )                                                                 \n",
      "                                                                                                  \n",
      " activation_28 (Activation)     (None, 128, 128, 16  0           ['batch_normalization_28[0][0]'] \n",
      "                                )                                                                 \n",
      "                                                                                                  \n",
      " conv2d_29 (Conv2D)             (None, 128, 128, 16  2320        ['activation_28[0][0]']          \n",
      "                                )                                                                 \n",
      "                                                                                                  \n",
      " batch_normalization_29 (BatchN  (None, 128, 128, 16  64         ['conv2d_29[0][0]']              \n",
      " ormalization)                  )                                                                 \n",
      "                                                                                                  \n",
      " activation_29 (Activation)     (None, 128, 128, 16  0           ['batch_normalization_29[0][0]'] \n",
      "                                )                                                                 \n",
      "                                                                                                  \n",
      " conv2d_30 (Conv2D)             (None, 128, 128, 16  2320        ['activation_29[0][0]']          \n",
      "                                )                                                                 \n",
      "                                                                                                  \n",
      " batch_normalization_30 (BatchN  (None, 128, 128, 16  64         ['conv2d_30[0][0]']              \n",
      " ormalization)                  )                                                                 \n",
      "                                                                                                  \n",
      " activation_30 (Activation)     (None, 128, 128, 16  0           ['batch_normalization_30[0][0]'] \n",
      "                                )                                                                 \n",
      "                                                                                                  \n",
      " conv2d_31 (Conv2D)             (None, 128, 128, 16  2320        ['activation_30[0][0]']          \n",
      "                                )                                                                 \n",
      "                                                                                                  \n",
      " batch_normalization_31 (BatchN  (None, 128, 128, 16  64         ['conv2d_31[0][0]']              \n",
      " ormalization)                  )                                                                 \n",
      "                                                                                                  \n",
      " activation_31 (Activation)     (None, 128, 128, 16  0           ['batch_normalization_31[0][0]'] \n",
      "                                )                                                                 \n",
      "                                                                                                  \n",
      " conv2d_transpose_3 (Conv2DTran  (None, 256, 256, 8)  1160       ['activation_31[0][0]']          \n",
      " spose)                                                                                           \n",
      "                                                                                                  \n",
      " concatenate_3 (Concatenate)    (None, 256, 256, 16  0           ['conv2d_transpose_3[0][0]',     \n",
      "                                )                                 'activation_3[0][0]']           \n",
      "                                                                                                  \n",
      " dropout_7 (Dropout)            (None, 256, 256, 16  0           ['concatenate_3[0][0]']          \n",
      "                                )                                                                 \n",
      "                                                                                                  \n",
      " conv2d_32 (Conv2D)             (None, 256, 256, 8)  1160        ['dropout_7[0][0]']              \n",
      "                                                                                                  \n",
      " batch_normalization_32 (BatchN  (None, 256, 256, 8)  32         ['conv2d_32[0][0]']              \n",
      " ormalization)                                                                                    \n",
      "                                                                                                  \n",
      " activation_32 (Activation)     (None, 256, 256, 8)  0           ['batch_normalization_32[0][0]'] \n",
      "                                                                                                  \n",
      " conv2d_33 (Conv2D)             (None, 256, 256, 8)  584         ['activation_32[0][0]']          \n",
      "                                                                                                  \n",
      " batch_normalization_33 (BatchN  (None, 256, 256, 8)  32         ['conv2d_33[0][0]']              \n",
      " ormalization)                                                                                    \n",
      "                                                                                                  \n",
      " activation_33 (Activation)     (None, 256, 256, 8)  0           ['batch_normalization_33[0][0]'] \n",
      "                                                                                                  \n",
      " conv2d_34 (Conv2D)             (None, 256, 256, 8)  584         ['activation_33[0][0]']          \n",
      "                                                                                                  \n",
      " batch_normalization_34 (BatchN  (None, 256, 256, 8)  32         ['conv2d_34[0][0]']              \n",
      " ormalization)                                                                                    \n",
      "                                                                                                  \n",
      " activation_34 (Activation)     (None, 256, 256, 8)  0           ['batch_normalization_34[0][0]'] \n",
      "                                                                                                  \n",
      " conv2d_35 (Conv2D)             (None, 256, 256, 8)  584         ['activation_34[0][0]']          \n",
      "                                                                                                  \n",
      " batch_normalization_35 (BatchN  (None, 256, 256, 8)  32         ['conv2d_35[0][0]']              \n",
      " ormalization)                                                                                    \n",
      "                                                                                                  \n",
      " activation_35 (Activation)     (None, 256, 256, 8)  0           ['batch_normalization_35[0][0]'] \n",
      "                                                                                                  \n",
      " conv2d_36 (Conv2D)             (None, 256, 256, 1)  9           ['activation_35[0][0]']          \n",
      "                                                                                                  \n",
      "==================================================================================================\n",
      "Total params: 1,037,449\n",
      "Trainable params: 1,034,505\n",
      "Non-trainable params: 2,944\n",
      "__________________________________________________________________________________________________\n"
     ]
    }
   ],
   "source": [
    "input_img = Input((im_height, im_width, 1), name='img')\n",
    "model = get_rssinet1(input_img, n_filters=8, dropout=0.05, batchnorm=True)\n",
    "model.compile(optimizer=Adam(), loss=\"mean_squared_error\", metrics=[\"mae\"])\n",
    "model.summary()"
   ]
  },
  {
   "cell_type": "code",
   "execution_count": 9,
   "id": "d09ec6a2",
   "metadata": {},
   "outputs": [],
   "source": [
    "callbacks = [\n",
    "    EarlyStopping(patience=10, verbose=1),\n",
    "    ReduceLROnPlateau(factor=0.1, patience=3, min_lr=0.00001, verbose=1),\n",
    "    ModelCheckpoint('RSSINet_I.h5', verbose=1, save_best_only=True, save_weights_only=True)\n",
    "]"
   ]
  },
  {
   "cell_type": "code",
   "execution_count": 10,
   "id": "26593786",
   "metadata": {
    "scrolled": true
   },
   "outputs": [],
   "source": [
    "#Training section RSSINET-I\n",
    "# results = model.fit(X_train, y_train, batch_size=4, epochs =1500, callbacks=callbacks,\n",
    "#                     validation_data=(X_valid, y_valid))"
   ]
  },
  {
   "cell_type": "code",
   "execution_count": 11,
   "id": "4833855a",
   "metadata": {},
   "outputs": [],
   "source": [
    "# Load best model\n",
    "model.load_weights('RSSINet_I.h5')"
   ]
  },
  {
   "cell_type": "code",
   "execution_count": 12,
   "id": "d994630b",
   "metadata": {},
   "outputs": [
    {
     "name": "stdout",
     "output_type": "stream",
     "text": [
      "1/1 [==============================] - 2s 2s/step - loss: 0.0029 - mae: 0.0331\n",
      "6/6 [==============================] - 6s 854ms/step\n",
      "1/1 [==============================] - 1s 949ms/step\n"
     ]
    }
   ],
   "source": [
    "# Evaluate on validation set \n",
    "model.evaluate(X_valid, y_valid, verbose=1)\n",
    "# Predict on train, val and test\n",
    "preds_train = model.predict(X_train, verbose=1)\n",
    "preds_val = model.predict(X_valid, verbose=1)"
   ]
  },
  {
   "cell_type": "code",
   "execution_count": 13,
   "id": "d2d3b420",
   "metadata": {},
   "outputs": [],
   "source": [
    "def plot_funct(X, y, preds, ix=None):\n",
    "    if ix is None:\n",
    "        ix = random.randint(0, len(X))\n",
    "    has_mask = y[ix].max() > 0\n",
    "\n",
    "    fig, ax = plt.subplots(1, 3, figsize=(10, 10))\n",
    "    ax[0].imshow(X[ix, ..., 0],interpolation='bilinear',cmap='gray')\n",
    "    # Hide axes ticks\n",
    "    ax[0].set_xticks([]);\n",
    "    ax[0].set_yticks([]);\n",
    "\n",
    "    A=ax[1].imshow(y[ix].squeeze(),cmap='jet');\n",
    "    ax[1].set_xticks([]); \n",
    "    ax[1].set_yticks([]);\n",
    "\n",
    "    \n",
    "    B=ax[2].imshow(preds[ix].squeeze(),cmap='jet')\n",
    "    ax[2].set_xticks([]); \n",
    "    ax[2].set_yticks([]);"
   ]
  },
  {
   "cell_type": "code",
   "execution_count": 14,
   "id": "bbad09e1",
   "metadata": {},
   "outputs": [
    {
     "data": {
      "image/png": "[encoded data removed]",
      "text/plain": [
       "<Figure size 720x720 with 3 Axes>"
      ]
     },
     "metadata": {},
     "output_type": "display_data"
    }
   ],
   "source": [
    "plot_funct(X_train, y_train, preds_train, ix=1)"
   ]
  },
  {
   "cell_type": "code",
   "execution_count": 15,
   "id": "28d80c83",
   "metadata": {},
   "outputs": [
    {
     "data": {
      "image/png": "[encoded data removed]",
      "text/plain": [
       "<Figure size 720x720 with 3 Axes>"
      ]
     },
     "metadata": {},
     "output_type": "display_data"
    }
   ],
   "source": [
    "plot_funct(X_valid, y_valid, preds_val,ix=1);"
   ]
  },
  {
   "cell_type": "markdown",
   "id": "062dbdb9",
   "metadata": {},
   "source": [
    "# MSE  for RSSINET-I"
   ]
  },
  {
   "cell_type": "code",
   "execution_count": 16,
   "id": "58576ad2",
   "metadata": {},
   "outputs": [
    {
     "name": "stdout",
     "output_type": "stream",
     "text": [
      "mse_train  = 0.0018735998310149\n",
      "mse_valid  = 0.0029242143500596\n"
     ]
    }
   ],
   "source": [
    "mse_train = ((y_train - preds_train)**2).mean()\n",
    "print('mse_train  = %.16f' %(mse_train))\n",
    "\n",
    "mse_valid = ((y_valid - preds_val)**2).mean()\n",
    "print('mse_valid  = %.16f' %(mse_valid))"
   ]
  },
  {
   "cell_type": "markdown",
   "id": "8186bff8",
   "metadata": {},
   "source": [
    "# Training of RSSINET-II "
   ]
  },
  {
   "cell_type": "code",
   "execution_count": 17,
   "id": "2385797c",
   "metadata": {},
   "outputs": [],
   "source": [
    "def get_rssinet2(input_,layout_image, n_filters=8, dropout=0.5, batchnorm=True):\n",
    "    # contracting path\n",
    "    M1_1 = Multiply()([input_,layout_image,])\n",
    "    \n",
    "    c1 = conv2d_block(M1_1, n_filters=n_filters*1, kernel_size=3, batchnorm=batchnorm)\n",
    "    p1 = MaxPooling2D((2, 2)) (c1)\n",
    "    p1 = Dropout(dropout*0.5)(p1)\n",
    "\n",
    "    c2 = conv2d_block(p1, n_filters=n_filters*2, kernel_size=3, batchnorm=batchnorm)\n",
    "    p2 = MaxPooling2D((2, 2)) (c2)\n",
    "    p2 = Dropout(dropout)(p2)\n",
    "\n",
    "    c3 = conv2d_block(p2, n_filters=n_filters*4, kernel_size=3, batchnorm=batchnorm)\n",
    "    p3 = MaxPooling2D((2, 2)) (c3)\n",
    "    p3 = Dropout(dropout)(p3)\n",
    "\n",
    "    c4 = conv2d_block(p3, n_filters=n_filters*8, kernel_size=3, batchnorm=batchnorm)\n",
    "    p4 = MaxPooling2D(pool_size=(2, 2)) (c4)\n",
    "    p4 = Dropout(dropout)(p4)\n",
    "    #bottleneck\n",
    "    c5 = conv2d_block(p4, n_filters=n_filters*16, kernel_size=3, batchnorm=batchnorm)\n",
    "    \n",
    "    #Expanding path\n",
    "    u6 = Conv2DTranspose(n_filters*8, (3, 3), strides=(2, 2), padding='same') (c5)\n",
    "    u6 = concatenate([u6, c4])\n",
    "    u6 = Dropout(dropout)(u6)\n",
    "    c6 = conv2d_block(u6, n_filters=n_filters*8, kernel_size=3, batchnorm=batchnorm)\n",
    "\n",
    "    u7 = Conv2DTranspose(n_filters*4, (3, 3), strides=(2, 2), padding='same') (c6)\n",
    "    u7 = concatenate([u7, c3])\n",
    "    u7 = Dropout(dropout)(u7)\n",
    "    c7 = conv2d_block(u7, n_filters=n_filters*4, kernel_size=3, batchnorm=batchnorm)\n",
    "\n",
    "    u8 = Conv2DTranspose(n_filters*2, (3, 3), strides=(2, 2), padding='same') (c7)\n",
    "    u8 = concatenate([u8, c2])\n",
    "    u8 = Dropout(dropout)(u8)\n",
    "    c8 = conv2d_block(u8, n_filters=n_filters*2, kernel_size=3, batchnorm=batchnorm)\n",
    "\n",
    "    u9 = Conv2DTranspose(n_filters*1, (3, 3), strides=(2, 2), padding='same') (c8)\n",
    "    u9 = concatenate([u9, c1], axis=3)\n",
    "    u9 = Dropout(dropout)(u9)\n",
    "    c9 = conv2d_block(u9, n_filters=n_filters*1, kernel_size=3, batchnorm=batchnorm)\n",
    "    \n",
    "    outputs = Conv2D(1, (1, 1),  activation='sigmoid') (c9)\n",
    "    model = Model(inputs=[input_img,layout_image], outputs=[outputs])\n",
    "    return model"
   ]
  },
  {
   "cell_type": "code",
   "execution_count": 18,
   "id": "31139ba2",
   "metadata": {},
   "outputs": [
    {
     "name": "stdout",
     "output_type": "stream",
     "text": [
      "Model: \"model_1\"\n",
      "__________________________________________________________________________________________________\n",
      " Layer (type)                   Output Shape         Param #     Connected to                     \n",
      "==================================================================================================\n",
      " img (InputLayer)               [(None, 256, 256, 1  0           []                               \n",
      "                                )]                                                                \n",
      "                                                                                                  \n",
      " layout (InputLayer)            [(None, 256, 256, 1  0           []                               \n",
      "                                )]                                                                \n",
      "                                                                                                  \n",
      " multiply (Multiply)            (None, 256, 256, 1)  0           ['img[0][0]',                    \n",
      "                                                                  'layout[0][0]']                 \n",
      "                                                                                                  \n",
      " conv2d_37 (Conv2D)             (None, 256, 256, 8)  80          ['multiply[0][0]']               \n",
      "                                                                                                  \n",
      " batch_normalization_36 (BatchN  (None, 256, 256, 8)  32         ['conv2d_37[0][0]']              \n",
      " ormalization)                                                                                    \n",
      "                                                                                                  \n",
      " activation_36 (Activation)     (None, 256, 256, 8)  0           ['batch_normalization_36[0][0]'] \n",
      "                                                                                                  \n",
      " conv2d_38 (Conv2D)             (None, 256, 256, 8)  584         ['activation_36[0][0]']          \n",
      "                                                                                                  \n",
      " batch_normalization_37 (BatchN  (None, 256, 256, 8)  32         ['conv2d_38[0][0]']              \n",
      " ormalization)                                                                                    \n",
      "                                                                                                  \n",
      " activation_37 (Activation)     (None, 256, 256, 8)  0           ['batch_normalization_37[0][0]'] \n",
      "                                                                                                  \n",
      " conv2d_39 (Conv2D)             (None, 256, 256, 8)  584         ['activation_37[0][0]']          \n",
      "                                                                                                  \n",
      " batch_normalization_38 (BatchN  (None, 256, 256, 8)  32         ['conv2d_39[0][0]']              \n",
      " ormalization)                                                                                    \n",
      "                                                                                                  \n",
      " activation_38 (Activation)     (None, 256, 256, 8)  0           ['batch_normalization_38[0][0]'] \n",
      "                                                                                                  \n",
      " conv2d_40 (Conv2D)             (None, 256, 256, 8)  584         ['activation_38[0][0]']          \n",
      "                                                                                                  \n",
      " batch_normalization_39 (BatchN  (None, 256, 256, 8)  32         ['conv2d_40[0][0]']              \n",
      " ormalization)                                                                                    \n",
      "                                                                                                  \n",
      " activation_39 (Activation)     (None, 256, 256, 8)  0           ['batch_normalization_39[0][0]'] \n",
      "                                                                                                  \n",
      " max_pooling2d_4 (MaxPooling2D)  (None, 128, 128, 8)  0          ['activation_39[0][0]']          \n",
      "                                                                                                  \n",
      " dropout_8 (Dropout)            (None, 128, 128, 8)  0           ['max_pooling2d_4[0][0]']        \n",
      "                                                                                                  \n",
      " conv2d_41 (Conv2D)             (None, 128, 128, 16  1168        ['dropout_8[0][0]']              \n",
      "                                )                                                                 \n",
      "                                                                                                  \n",
      " batch_normalization_40 (BatchN  (None, 128, 128, 16  64         ['conv2d_41[0][0]']              \n",
      " ormalization)                  )                                                                 \n",
      "                                                                                                  \n",
      " activation_40 (Activation)     (None, 128, 128, 16  0           ['batch_normalization_40[0][0]'] \n",
      "                                )                                                                 \n",
      "                                                                                                  \n",
      " conv2d_42 (Conv2D)             (None, 128, 128, 16  2320        ['activation_40[0][0]']          \n",
      "                                )                                                                 \n",
      "                                                                                                  \n",
      " batch_normalization_41 (BatchN  (None, 128, 128, 16  64         ['conv2d_42[0][0]']              \n",
      " ormalization)                  )                                                                 \n",
      "                                                                                                  \n",
      " activation_41 (Activation)     (None, 128, 128, 16  0           ['batch_normalization_41[0][0]'] \n",
      "                                )                                                                 \n",
      "                                                                                                  \n",
      " conv2d_43 (Conv2D)             (None, 128, 128, 16  2320        ['activation_41[0][0]']          \n",
      "                                )                                                                 \n",
      "                                                                                                  \n",
      " batch_normalization_42 (BatchN  (None, 128, 128, 16  64         ['conv2d_43[0][0]']              \n",
      " ormalization)                  )                                                                 \n",
      "                                                                                                  \n",
      " activation_42 (Activation)     (None, 128, 128, 16  0           ['batch_normalization_42[0][0]'] \n",
      "                                )                                                                 \n",
      "                                                                                                  \n",
      " conv2d_44 (Conv2D)             (None, 128, 128, 16  2320        ['activation_42[0][0]']          \n",
      "                                )                                                                 \n",
      "                                                                                                  \n",
      " batch_normalization_43 (BatchN  (None, 128, 128, 16  64         ['conv2d_44[0][0]']              \n",
      " ormalization)                  )                                                                 \n",
      "                                                                                                  \n",
      " activation_43 (Activation)     (None, 128, 128, 16  0           ['batch_normalization_43[0][0]'] \n",
      "                                )                                                                 \n",
      "                                                                                                  \n",
      " max_pooling2d_5 (MaxPooling2D)  (None, 64, 64, 16)  0           ['activation_43[0][0]']          \n",
      "                                                                                                  \n",
      " dropout_9 (Dropout)            (None, 64, 64, 16)   0           ['max_pooling2d_5[0][0]']        \n",
      "                                                                                                  \n",
      " conv2d_45 (Conv2D)             (None, 64, 64, 32)   4640        ['dropout_9[0][0]']              \n",
      "                                                                                                  \n",
      " batch_normalization_44 (BatchN  (None, 64, 64, 32)  128         ['conv2d_45[0][0]']              \n",
      " ormalization)                                                                                    \n",
      "                                                                                                  \n",
      " activation_44 (Activation)     (None, 64, 64, 32)   0           ['batch_normalization_44[0][0]'] \n",
      "                                                                                                  \n",
      " conv2d_46 (Conv2D)             (None, 64, 64, 32)   9248        ['activation_44[0][0]']          \n",
      "                                                                                                  \n",
      " batch_normalization_45 (BatchN  (None, 64, 64, 32)  128         ['conv2d_46[0][0]']              \n",
      " ormalization)                                                                                    \n",
      "                                                                                                  \n",
      " activation_45 (Activation)     (None, 64, 64, 32)   0           ['batch_normalization_45[0][0]'] \n",
      "                                                                                                  \n",
      " conv2d_47 (Conv2D)             (None, 64, 64, 32)   9248        ['activation_45[0][0]']          \n",
      "                                                                                                  \n",
      " batch_normalization_46 (BatchN  (None, 64, 64, 32)  128         ['conv2d_47[0][0]']              \n",
      " ormalization)                                                                                    \n",
      "                                                                                                  \n",
      " activation_46 (Activation)     (None, 64, 64, 32)   0           ['batch_normalization_46[0][0]'] \n",
      "                                                                                                  \n",
      " conv2d_48 (Conv2D)             (None, 64, 64, 32)   9248        ['activation_46[0][0]']          \n",
      "                                                                                                  \n",
      " batch_normalization_47 (BatchN  (None, 64, 64, 32)  128         ['conv2d_48[0][0]']              \n",
      " ormalization)                                                                                    \n",
      "                                                                                                  \n",
      " activation_47 (Activation)     (None, 64, 64, 32)   0           ['batch_normalization_47[0][0]'] \n",
      "                                                                                                  \n",
      " max_pooling2d_6 (MaxPooling2D)  (None, 32, 32, 32)  0           ['activation_47[0][0]']          \n",
      "                                                                                                  \n",
      " dropout_10 (Dropout)           (None, 32, 32, 32)   0           ['max_pooling2d_6[0][0]']        \n",
      "                                                                                                  \n",
      " conv2d_49 (Conv2D)             (None, 32, 32, 64)   18496       ['dropout_10[0][0]']             \n",
      "                                                                                                  \n",
      " batch_normalization_48 (BatchN  (None, 32, 32, 64)  256         ['conv2d_49[0][0]']              \n",
      " ormalization)                                                                                    \n",
      "                                                                                                  \n",
      " activation_48 (Activation)     (None, 32, 32, 64)   0           ['batch_normalization_48[0][0]'] \n",
      "                                                                                                  \n",
      " conv2d_50 (Conv2D)             (None, 32, 32, 64)   36928       ['activation_48[0][0]']          \n",
      "                                                                                                  \n",
      " batch_normalization_49 (BatchN  (None, 32, 32, 64)  256         ['conv2d_50[0][0]']              \n",
      " ormalization)                                                                                    \n",
      "                                                                                                  \n",
      " activation_49 (Activation)     (None, 32, 32, 64)   0           ['batch_normalization_49[0][0]'] \n",
      "                                                                                                  \n",
      " conv2d_51 (Conv2D)             (None, 32, 32, 64)   36928       ['activation_49[0][0]']          \n",
      "                                                                                                  \n",
      " batch_normalization_50 (BatchN  (None, 32, 32, 64)  256         ['conv2d_51[0][0]']              \n",
      " ormalization)                                                                                    \n",
      "                                                                                                  \n",
      " activation_50 (Activation)     (None, 32, 32, 64)   0           ['batch_normalization_50[0][0]'] \n",
      "                                                                                                  \n",
      " conv2d_52 (Conv2D)             (None, 32, 32, 64)   36928       ['activation_50[0][0]']          \n",
      "                                                                                                  \n",
      " batch_normalization_51 (BatchN  (None, 32, 32, 64)  256         ['conv2d_52[0][0]']              \n",
      " ormalization)                                                                                    \n",
      "                                                                                                  \n",
      " activation_51 (Activation)     (None, 32, 32, 64)   0           ['batch_normalization_51[0][0]'] \n",
      "                                                                                                  \n",
      " max_pooling2d_7 (MaxPooling2D)  (None, 16, 16, 64)  0           ['activation_51[0][0]']          \n",
      "                                                                                                  \n",
      " dropout_11 (Dropout)           (None, 16, 16, 64)   0           ['max_pooling2d_7[0][0]']        \n",
      "                                                                                                  \n",
      " conv2d_53 (Conv2D)             (None, 16, 16, 128)  73856       ['dropout_11[0][0]']             \n",
      "                                                                                                  \n",
      " batch_normalization_52 (BatchN  (None, 16, 16, 128)  512        ['conv2d_53[0][0]']              \n",
      " ormalization)                                                                                    \n",
      "                                                                                                  \n",
      " activation_52 (Activation)     (None, 16, 16, 128)  0           ['batch_normalization_52[0][0]'] \n",
      "                                                                                                  \n",
      " conv2d_54 (Conv2D)             (None, 16, 16, 128)  147584      ['activation_52[0][0]']          \n",
      "                                                                                                  \n",
      " batch_normalization_53 (BatchN  (None, 16, 16, 128)  512        ['conv2d_54[0][0]']              \n",
      " ormalization)                                                                                    \n",
      "                                                                                                  \n",
      " activation_53 (Activation)     (None, 16, 16, 128)  0           ['batch_normalization_53[0][0]'] \n",
      "                                                                                                  \n",
      " conv2d_55 (Conv2D)             (None, 16, 16, 128)  147584      ['activation_53[0][0]']          \n",
      "                                                                                                  \n",
      " batch_normalization_54 (BatchN  (None, 16, 16, 128)  512        ['conv2d_55[0][0]']              \n",
      " ormalization)                                                                                    \n",
      "                                                                                                  \n",
      " activation_54 (Activation)     (None, 16, 16, 128)  0           ['batch_normalization_54[0][0]'] \n",
      "                                                                                                  \n",
      " conv2d_56 (Conv2D)             (None, 16, 16, 128)  147584      ['activation_54[0][0]']          \n",
      "                                                                                                  \n",
      " batch_normalization_55 (BatchN  (None, 16, 16, 128)  512        ['conv2d_56[0][0]']              \n",
      " ormalization)                                                                                    \n",
      "                                                                                                  \n",
      " activation_55 (Activation)     (None, 16, 16, 128)  0           ['batch_normalization_55[0][0]'] \n",
      "                                                                                                  \n",
      " conv2d_transpose_4 (Conv2DTran  (None, 32, 32, 64)  73792       ['activation_55[0][0]']          \n",
      " spose)                                                                                           \n",
      "                                                                                                  \n",
      " concatenate_4 (Concatenate)    (None, 32, 32, 128)  0           ['conv2d_transpose_4[0][0]',     \n",
      "                                                                  'activation_51[0][0]']          \n",
      "                                                                                                  \n",
      " dropout_12 (Dropout)           (None, 32, 32, 128)  0           ['concatenate_4[0][0]']          \n",
      "                                                                                                  \n",
      " conv2d_57 (Conv2D)             (None, 32, 32, 64)   73792       ['dropout_12[0][0]']             \n",
      "                                                                                                  \n",
      " batch_normalization_56 (BatchN  (None, 32, 32, 64)  256         ['conv2d_57[0][0]']              \n",
      " ormalization)                                                                                    \n",
      "                                                                                                  \n",
      " activation_56 (Activation)     (None, 32, 32, 64)   0           ['batch_normalization_56[0][0]'] \n",
      "                                                                                                  \n",
      " conv2d_58 (Conv2D)             (None, 32, 32, 64)   36928       ['activation_56[0][0]']          \n",
      "                                                                                                  \n",
      " batch_normalization_57 (BatchN  (None, 32, 32, 64)  256         ['conv2d_58[0][0]']              \n",
      " ormalization)                                                                                    \n",
      "                                                                                                  \n",
      " activation_57 (Activation)     (None, 32, 32, 64)   0           ['batch_normalization_57[0][0]'] \n",
      "                                                                                                  \n",
      " conv2d_59 (Conv2D)             (None, 32, 32, 64)   36928       ['activation_57[0][0]']          \n",
      "                                                                                                  \n",
      " batch_normalization_58 (BatchN  (None, 32, 32, 64)  256         ['conv2d_59[0][0]']              \n",
      " ormalization)                                                                                    \n",
      "                                                                                                  \n",
      " activation_58 (Activation)     (None, 32, 32, 64)   0           ['batch_normalization_58[0][0]'] \n",
      "                                                                                                  \n",
      " conv2d_60 (Conv2D)             (None, 32, 32, 64)   36928       ['activation_58[0][0]']          \n",
      "                                                                                                  \n",
      " batch_normalization_59 (BatchN  (None, 32, 32, 64)  256         ['conv2d_60[0][0]']              \n",
      " ormalization)                                                                                    \n",
      "                                                                                                  \n",
      " activation_59 (Activation)     (None, 32, 32, 64)   0           ['batch_normalization_59[0][0]'] \n",
      "                                                                                                  \n",
      " conv2d_transpose_5 (Conv2DTran  (None, 64, 64, 32)  18464       ['activation_59[0][0]']          \n",
      " spose)                                                                                           \n",
      "                                                                                                  \n",
      " concatenate_5 (Concatenate)    (None, 64, 64, 64)   0           ['conv2d_transpose_5[0][0]',     \n",
      "                                                                  'activation_47[0][0]']          \n",
      "                                                                                                  \n",
      " dropout_13 (Dropout)           (None, 64, 64, 64)   0           ['concatenate_5[0][0]']          \n",
      "                                                                                                  \n",
      " conv2d_61 (Conv2D)             (None, 64, 64, 32)   18464       ['dropout_13[0][0]']             \n",
      "                                                                                                  \n",
      " batch_normalization_60 (BatchN  (None, 64, 64, 32)  128         ['conv2d_61[0][0]']              \n",
      " ormalization)                                                                                    \n",
      "                                                                                                  \n",
      " activation_60 (Activation)     (None, 64, 64, 32)   0           ['batch_normalization_60[0][0]'] \n",
      "                                                                                                  \n",
      " conv2d_62 (Conv2D)             (None, 64, 64, 32)   9248        ['activation_60[0][0]']          \n",
      "                                                                                                  \n",
      " batch_normalization_61 (BatchN  (None, 64, 64, 32)  128         ['conv2d_62[0][0]']              \n",
      " ormalization)                                                                                    \n",
      "                                                                                                  \n",
      " activation_61 (Activation)     (None, 64, 64, 32)   0           ['batch_normalization_61[0][0]'] \n",
      "                                                                                                  \n",
      " conv2d_63 (Conv2D)             (None, 64, 64, 32)   9248        ['activation_61[0][0]']          \n",
      "                                                                                                  \n",
      " batch_normalization_62 (BatchN  (None, 64, 64, 32)  128         ['conv2d_63[0][0]']              \n",
      " ormalization)                                                                                    \n",
      "                                                                                                  \n",
      " activation_62 (Activation)     (None, 64, 64, 32)   0           ['batch_normalization_62[0][0]'] \n",
      "                                                                                                  \n",
      " conv2d_64 (Conv2D)             (None, 64, 64, 32)   9248        ['activation_62[0][0]']          \n",
      "                                                                                                  \n",
      " batch_normalization_63 (BatchN  (None, 64, 64, 32)  128         ['conv2d_64[0][0]']              \n",
      " ormalization)                                                                                    \n",
      "                                                                                                  \n",
      " activation_63 (Activation)     (None, 64, 64, 32)   0           ['batch_normalization_63[0][0]'] \n",
      "                                                                                                  \n",
      " conv2d_transpose_6 (Conv2DTran  (None, 128, 128, 16  4624       ['activation_63[0][0]']          \n",
      " spose)                         )                                                                 \n",
      "                                                                                                  \n",
      " concatenate_6 (Concatenate)    (None, 128, 128, 32  0           ['conv2d_transpose_6[0][0]',     \n",
      "                                )                                 'activation_43[0][0]']          \n",
      "                                                                                                  \n",
      " dropout_14 (Dropout)           (None, 128, 128, 32  0           ['concatenate_6[0][0]']          \n",
      "                                )                                                                 \n",
      "                                                                                                  \n",
      " conv2d_65 (Conv2D)             (None, 128, 128, 16  4624        ['dropout_14[0][0]']             \n",
      "                                )                                                                 \n",
      "                                                                                                  \n",
      " batch_normalization_64 (BatchN  (None, 128, 128, 16  64         ['conv2d_65[0][0]']              \n",
      " ormalization)                  )                                                                 \n",
      "                                                                                                  \n",
      " activation_64 (Activation)     (None, 128, 128, 16  0           ['batch_normalization_64[0][0]'] \n",
      "                                )                                                                 \n",
      "                                                                                                  \n",
      " conv2d_66 (Conv2D)             (None, 128, 128, 16  2320        ['activation_64[0][0]']          \n",
      "                                )                                                                 \n",
      "                                                                                                  \n",
      " batch_normalization_65 (BatchN  (None, 128, 128, 16  64         ['conv2d_66[0][0]']              \n",
      " ormalization)                  )                                                                 \n",
      "                                                                                                  \n",
      " activation_65 (Activation)     (None, 128, 128, 16  0           ['batch_normalization_65[0][0]'] \n",
      "                                )                                                                 \n",
      "                                                                                                  \n",
      " conv2d_67 (Conv2D)             (None, 128, 128, 16  2320        ['activation_65[0][0]']          \n",
      "                                )                                                                 \n",
      "                                                                                                  \n",
      " batch_normalization_66 (BatchN  (None, 128, 128, 16  64         ['conv2d_67[0][0]']              \n",
      " ormalization)                  )                                                                 \n",
      "                                                                                                  \n",
      " activation_66 (Activation)     (None, 128, 128, 16  0           ['batch_normalization_66[0][0]'] \n",
      "                                )                                                                 \n",
      "                                                                                                  \n",
      " conv2d_68 (Conv2D)             (None, 128, 128, 16  2320        ['activation_66[0][0]']          \n",
      "                                )                                                                 \n",
      "                                                                                                  \n",
      " batch_normalization_67 (BatchN  (None, 128, 128, 16  64         ['conv2d_68[0][0]']              \n",
      " ormalization)                  )                                                                 \n",
      "                                                                                                  \n",
      " activation_67 (Activation)     (None, 128, 128, 16  0           ['batch_normalization_67[0][0]'] \n",
      "                                )                                                                 \n",
      "                                                                                                  \n",
      " conv2d_transpose_7 (Conv2DTran  (None, 256, 256, 8)  1160       ['activation_67[0][0]']          \n",
      " spose)                                                                                           \n",
      "                                                                                                  \n",
      " concatenate_7 (Concatenate)    (None, 256, 256, 16  0           ['conv2d_transpose_7[0][0]',     \n",
      "                                )                                 'activation_39[0][0]']          \n",
      "                                                                                                  \n",
      " dropout_15 (Dropout)           (None, 256, 256, 16  0           ['concatenate_7[0][0]']          \n",
      "                                )                                                                 \n",
      "                                                                                                  \n",
      " conv2d_69 (Conv2D)             (None, 256, 256, 8)  1160        ['dropout_15[0][0]']             \n",
      "                                                                                                  \n",
      " batch_normalization_68 (BatchN  (None, 256, 256, 8)  32         ['conv2d_69[0][0]']              \n",
      " ormalization)                                                                                    \n",
      "                                                                                                  \n",
      " activation_68 (Activation)     (None, 256, 256, 8)  0           ['batch_normalization_68[0][0]'] \n",
      "                                                                                                  \n",
      " conv2d_70 (Conv2D)             (None, 256, 256, 8)  584         ['activation_68[0][0]']          \n",
      "                                                                                                  \n",
      " batch_normalization_69 (BatchN  (None, 256, 256, 8)  32         ['conv2d_70[0][0]']              \n",
      " ormalization)                                                                                    \n",
      "                                                                                                  \n",
      " activation_69 (Activation)     (None, 256, 256, 8)  0           ['batch_normalization_69[0][0]'] \n",
      "                                                                                                  \n",
      " conv2d_71 (Conv2D)             (None, 256, 256, 8)  584         ['activation_69[0][0]']          \n",
      "                                                                                                  \n",
      " batch_normalization_70 (BatchN  (None, 256, 256, 8)  32         ['conv2d_71[0][0]']              \n",
      " ormalization)                                                                                    \n",
      "                                                                                                  \n",
      " activation_70 (Activation)     (None, 256, 256, 8)  0           ['batch_normalization_70[0][0]'] \n",
      "                                                                                                  \n",
      " conv2d_72 (Conv2D)             (None, 256, 256, 8)  584         ['activation_70[0][0]']          \n",
      "                                                                                                  \n",
      " batch_normalization_71 (BatchN  (None, 256, 256, 8)  32         ['conv2d_72[0][0]']              \n",
      " ormalization)                                                                                    \n",
      "                                                                                                  \n",
      " activation_71 (Activation)     (None, 256, 256, 8)  0           ['batch_normalization_71[0][0]'] \n",
      "                                                                                                  \n",
      " conv2d_73 (Conv2D)             (None, 256, 256, 1)  9           ['activation_71[0][0]']          \n",
      "                                                                                                  \n",
      "==================================================================================================\n",
      "Total params: 1,037,449\n",
      "Trainable params: 1,034,505\n",
      "Non-trainable params: 2,944\n",
      "__________________________________________________________________________________________________\n"
     ]
    }
   ],
   "source": [
    "input_ = Input((im_height, im_width, 1), name='img_')\n",
    "layout_image = Input((im_height, im_width, 1), name='layout')\n",
    "model2 = get_rssinet2(input_img,layout_image, n_filters=8, dropout=0.05, batchnorm=True)\n",
    "model2.compile(optimizer=Adam(), loss=\"mean_squared_error\", metrics=[\"mae\"])\n",
    "model2.summary()"
   ]
  },
  {
   "cell_type": "code",
   "execution_count": 19,
   "id": "805946dd",
   "metadata": {},
   "outputs": [],
   "source": [
    "callbacks = [\n",
    "    EarlyStopping(patience=10, verbose=1),\n",
    "    ReduceLROnPlateau(factor=0.1, patience=3, min_lr=0.00001, verbose=1),\n",
    "    ModelCheckpoint('RSSINET_II.h5', verbose=1, save_best_only=True, save_weights_only=True)\n",
    "]"
   ]
  },
  {
   "cell_type": "code",
   "execution_count": 20,
   "id": "9b392ed0",
   "metadata": {},
   "outputs": [],
   "source": [
    "layer1_pred = model.predict(X_train)\n",
    "modified_ytrain = np.zeros(X_train.shape)\n",
    "for i in range(X_train.shape[0]):\n",
    "    modified_ytrain[i,:,:,:] = y_train[i,:,:,:] - layer1_pred[i,:,:,:]"
   ]
  },
  {
   "cell_type": "code",
   "execution_count": 21,
   "id": "3e986240",
   "metadata": {},
   "outputs": [],
   "source": [
    "layer1_pred_valid = model.predict(X_valid)\n",
    "modified_yvalid = np.zeros(X_valid.shape)\n",
    "for i in range(X_valid.shape[0]):\n",
    "    modified_yvalid[i,:,:,:] = y_valid[i,:,:,:] - layer1_pred_valid[i,:,:,:]"
   ]
  },
  {
   "cell_type": "code",
   "execution_count": 22,
   "id": "eb3566a4",
   "metadata": {
    "scrolled": true
   },
   "outputs": [],
   "source": [
    "#Training section RSSINET-II\n",
    "# results2 = model2.fit([layer1_pred, Lay_train], modified_ytrain, batch_size=4, epochs=1500, callbacks=callbacks,\n",
    "#                     validation_data=([layer1_pred_valid, Lay_valid], modified_yvalid))"
   ]
  },
  {
   "cell_type": "code",
   "execution_count": 23,
   "id": "af80f3fd",
   "metadata": {},
   "outputs": [],
   "source": [
    "# Load best model\n",
    "model2.load_weights('RSSINET_II.h5')"
   ]
  },
  {
   "cell_type": "code",
   "execution_count": 24,
   "id": "0b620a47",
   "metadata": {},
   "outputs": [
    {
     "name": "stdout",
     "output_type": "stream",
     "text": [
      "1/1 [==============================] - 2s 2s/step - loss: 0.0030 - mae: 0.0350\n",
      "6/6 [==============================] - 6s 829ms/step\n",
      "1/1 [==============================] - 1s 879ms/step\n"
     ]
    }
   ],
   "source": [
    "# Evaluate on validation set \n",
    "model2.evaluate([layer1_pred_valid, Lay_valid],modified_yvalid, verbose=1)\n",
    "\n",
    "# Predict on train, val and test\n",
    "preds_train2 = model2.predict([layer1_pred,Lay_train], verbose=1)\n",
    "preds_val2 = model2.predict([layer1_pred_valid, Lay_valid], verbose=1)\n"
   ]
  },
  {
   "cell_type": "code",
   "execution_count": 25,
   "id": "20160175",
   "metadata": {},
   "outputs": [],
   "source": [
    "def plot_funct2(X, y, preds, ix=None):\n",
    "    if ix is None:\n",
    "        ix = random.randint(0, len(X))\n",
    "    has_mask = y[ix].max() > 0\n",
    "\n",
    "    fig, ax = plt.subplots(1, 3, figsize=(10, 10))\n",
    "    ax[0].imshow(X[ix, ..., 0],interpolation='bilinear',cmap='jet')\n",
    "    # Hide axes ticks\n",
    "    ax[0].set_xticks([]);\n",
    "    ax[0].set_yticks([]);\n",
    "\n",
    "    A=ax[1].imshow((y[ix].squeeze()),cmap='jet');\n",
    "    ax[1].set_xticks([]); \n",
    "    ax[1].set_yticks([]);\n",
    "\n",
    "    \n",
    "    B=ax[2].imshow((preds[ix].squeeze()),cmap='jet')\n",
    "    ax[2].set_xticks([]); \n",
    "    ax[2].set_yticks([]);"
   ]
  },
  {
   "cell_type": "code",
   "execution_count": 26,
   "id": "7945df95",
   "metadata": {},
   "outputs": [
    {
     "data": {
      "image/png": "[encoded data removed]",
      "text/plain": [
       "<Figure size 720x720 with 3 Axes>"
      ]
     },
     "metadata": {},
     "output_type": "display_data"
    }
   ],
   "source": [
    "plot_funct2(layer1_pred, modified_ytrain, preds_train2, ix=1)"
   ]
  },
  {
   "cell_type": "code",
   "execution_count": 27,
   "id": "2eff1925",
   "metadata": {},
   "outputs": [
    {
     "data": {
      "image/png": "[encoded data removed]",
      "text/plain": [
       "<Figure size 720x720 with 3 Axes>"
      ]
     },
     "metadata": {},
     "output_type": "display_data"
    }
   ],
   "source": [
    "plot_funct2(layer1_pred_valid, modified_yvalid, preds_val2,ix=1);"
   ]
  },
  {
   "cell_type": "markdown",
   "id": "ae91c3b5",
   "metadata": {},
   "source": [
    "# MSE for RSSINET-II"
   ]
  },
  {
   "cell_type": "code",
   "execution_count": 28,
   "id": "adf47fc8",
   "metadata": {},
   "outputs": [
    {
     "name": "stdout",
     "output_type": "stream",
     "text": [
      "mse_train  = 0.0019546342813773\n",
      "mse_valid  = 0.0029822369289142\n"
     ]
    }
   ],
   "source": [
    "mse_train2 = ((modified_ytrain - preds_train2)**2).mean()\n",
    "print('mse_train  = %.16f' %(mse_train2))\n",
    "\n",
    "mse_valid2 = ((modified_yvalid - preds_val2)**2).mean()\n",
    "print('mse_valid  = %.16f' %(mse_valid2))"
   ]
  },
  {
   "cell_type": "markdown",
   "id": "bad598b9",
   "metadata": {},
   "source": [
    "# Final Concatenation + Dense"
   ]
  },
  {
   "cell_type": "code",
   "execution_count": 29,
   "id": "cba9c6ef",
   "metadata": {},
   "outputs": [],
   "source": [
    "u1 = layer1_pred\n",
    "v1 = layer1_pred_valid"
   ]
  },
  {
   "cell_type": "code",
   "execution_count": 30,
   "id": "20d42ba3",
   "metadata": {},
   "outputs": [
    {
     "name": "stdout",
     "output_type": "stream",
     "text": [
      "6/6 [==============================] - 5s 832ms/step\n",
      "1/1 [==============================] - 1s 1s/step\n"
     ]
    }
   ],
   "source": [
    "u2 = model2.predict([u1,Lay_train], verbose=1)\n",
    "v2 = model2.predict([v1,Lay_valid], verbose=1)"
   ]
  },
  {
   "cell_type": "code",
   "execution_count": 31,
   "id": "621e4489",
   "metadata": {},
   "outputs": [],
   "source": [
    "def final_model(out1,out2):\n",
    "    c1= concatenate([out1, out2], axis=3)\n",
    "    d1= Dense(1)(c1)\n",
    "    model = Model(inputs=[out1,out2], outputs=[d1])\n",
    "    return model"
   ]
  },
  {
   "cell_type": "code",
   "execution_count": 32,
   "id": "f19fe1b5",
   "metadata": {},
   "outputs": [
    {
     "name": "stdout",
     "output_type": "stream",
     "text": [
      "Model: \"model_2\"\n",
      "__________________________________________________________________________________________________\n",
      " Layer (type)                   Output Shape         Param #     Connected to                     \n",
      "==================================================================================================\n",
      " out1 (InputLayer)              [(None, 256, 256, 1  0           []                               \n",
      "                                )]                                                                \n",
      "                                                                                                  \n",
      " out2 (InputLayer)              [(None, 256, 256, 1  0           []                               \n",
      "                                )]                                                                \n",
      "                                                                                                  \n",
      " concatenate_8 (Concatenate)    (None, 256, 256, 2)  0           ['out1[0][0]',                   \n",
      "                                                                  'out2[0][0]']                   \n",
      "                                                                                                  \n",
      " dense (Dense)                  (None, 256, 256, 1)  3           ['concatenate_8[0][0]']          \n",
      "                                                                                                  \n",
      "==================================================================================================\n",
      "Total params: 3\n",
      "Trainable params: 3\n",
      "Non-trainable params: 0\n",
      "__________________________________________________________________________________________________\n"
     ]
    }
   ],
   "source": [
    "out1 = Input((im_height, im_width, 1), name='out1')\n",
    "out2 = Input((im_height, im_width, 1), name='out2')\n",
    "model4 = final_model(out1, out2)\n",
    "model4.compile(optimizer=Adam(), loss=\"mean_squared_error\", metrics=[\"mae\"])\n",
    "model4.summary()"
   ]
  },
  {
   "cell_type": "code",
   "execution_count": 33,
   "id": "5beaab2d",
   "metadata": {
    "scrolled": true
   },
   "outputs": [],
   "source": [
    "callbacks1 = [\n",
    "    EarlyStopping(patience=10, verbose=1),\n",
    "    ReduceLROnPlateau(factor=0.1, patience=3, min_lr=0.00001, verbose=1),\n",
    "    ModelCheckpoint('Final_concat.h5', verbose=1, save_best_only=True, save_weights_only=True)\n",
    "]"
   ]
  },
  {
   "cell_type": "code",
   "execution_count": 34,
   "id": "a0a2805e",
   "metadata": {},
   "outputs": [],
   "source": [
    "# Training section Final Concateanation + dense layer\n",
    "# results4 = model4.fit([u1,u2], y_train, batch_size=4, epochs=2500, callbacks=callbacks1,\n",
    "#                     validation_data=([v1,v2], y_valid))"
   ]
  },
  {
   "cell_type": "code",
   "execution_count": 35,
   "id": "84035a1b",
   "metadata": {},
   "outputs": [],
   "source": [
    "# Load best model\n",
    "model4.load_weights('Final_concat.h5')"
   ]
  },
  {
   "cell_type": "code",
   "execution_count": 36,
   "id": "2f202d42",
   "metadata": {},
   "outputs": [
    {
     "name": "stdout",
     "output_type": "stream",
     "text": [
      "1/1 [==============================] - 0s 277ms/step - loss: 0.0024 - mae: 0.0162\n",
      "6/6 [==============================] - 0s 16ms/step\n",
      "1/1 [==============================] - 0s 34ms/step\n"
     ]
    }
   ],
   "source": [
    "# Evaluate on validation set \n",
    "model4.evaluate([v1, v2], y_valid, verbose=1)\n",
    "\n",
    "# Predict on train, val and test\n",
    "preds_train4 = model4.predict([u1,u2], verbose=1)\n",
    "preds_val4 = model4.predict([v1,v2], verbose=1)"
   ]
  },
  {
   "cell_type": "code",
   "execution_count": 37,
   "id": "193205fd",
   "metadata": {},
   "outputs": [],
   "source": [
    "def plot_funct3(X, y, preds, ix=None):\n",
    "    if ix is None:\n",
    "        ix = random.randint(0, len(X))\n",
    "    has_mask = y[ix].max() > 0\n",
    "\n",
    "    fig, ax = plt.subplots(1, 3, figsize=(10, 10))\n",
    "    ax[0].imshow(X[ix, ..., 0],interpolation='bilinear',cmap='jet')\n",
    "    # Hide axes ticks\n",
    "    ax[0].set_xticks([]);\n",
    "    ax[0].set_yticks([]);\n",
    "\n",
    "    A=ax[1].imshow(y[ix].squeeze(),cmap='jet');\n",
    "    ax[1].set_xticks([]); \n",
    "    ax[1].set_yticks([]);\n",
    "\n",
    "    \n",
    "    B=ax[2].imshow(preds[ix].squeeze(),cmap='jet')\n",
    "    ax[2].set_xticks([]); \n",
    "    ax[2].set_yticks([]);"
   ]
  },
  {
   "cell_type": "code",
   "execution_count": 38,
   "id": "d88383f2",
   "metadata": {},
   "outputs": [
    {
     "data": {
      "image/png": "[encoded data removed]",
      "text/plain": [
       "<Figure size 720x720 with 3 Axes>"
      ]
     },
     "metadata": {},
     "output_type": "display_data"
    }
   ],
   "source": [
    "plot_funct3(X_train, y_train, preds_train4, ix=1)"
   ]
  },
  {
   "cell_type": "code",
   "execution_count": 39,
   "id": "585458f1",
   "metadata": {},
   "outputs": [
    {
     "data": {
      "image/png": "[encoded data removed]",
      "text/plain": [
       "<Figure size 720x720 with 3 Axes>"
      ]
     },
     "metadata": {},
     "output_type": "display_data"
    }
   ],
   "source": [
    "plot_funct3(X_valid, y_valid, preds_val4,ix=1);"
   ]
  },
  {
   "cell_type": "markdown",
   "id": "8877558b",
   "metadata": {},
   "source": [
    "# MSE for Final Model"
   ]
  },
  {
   "cell_type": "code",
   "execution_count": 47,
   "id": "4690afd3",
   "metadata": {},
   "outputs": [
    {
     "name": "stdout",
     "output_type": "stream",
     "text": [
      "mse train  = 0.0012915091356263\n",
      "rmse train = 0.035937574\n",
      "mse valid  = 0.0024243285879493\n",
      "rmse valid = 0.04923747\n"
     ]
    }
   ],
   "source": [
    "mse_train4 = ((y_train - preds_train4)**2).mean()\n",
    "print('mse train  = %.16f' %(mse_train4))\n",
    "rmse_train = np.sqrt(mse_train4)\n",
    "print('rmse train =' ,rmse_train)\n",
    "\n",
    "mse_valid4 = ((y_valid - preds_val4)**2).mean()\n",
    "print('mse valid  = %.16f' %(mse_valid4))\n",
    "rmse_valid = np.sqrt(mse_valid4)\n",
    "print('rmse valid =' ,rmse_valid)"
   ]
  },
  {
   "cell_type": "code",
   "execution_count": 48,
   "id": "92043d85",
   "metadata": {},
   "outputs": [
    {
     "data": {
      "text/plain": [
       "(array([5.2866e+04, 3.5770e+03, 1.5160e+03, 9.2800e+02, 7.6300e+02,\n",
       "        5.5700e+02, 4.5800e+02, 3.8300e+02, 3.0500e+02, 2.9500e+02,\n",
       "        2.5600e+02, 2.4900e+02, 2.8000e+02, 6.5400e+02, 1.4900e+03,\n",
       "        5.3900e+02, 2.1200e+02, 9.9000e+01, 7.1000e+01, 3.8000e+01]),\n",
       " array([0.  , 0.05, 0.1 , 0.15, 0.2 , 0.25, 0.3 , 0.35, 0.4 , 0.45, 0.5 ,\n",
       "        0.55, 0.6 , 0.65, 0.7 , 0.75, 0.8 , 0.85, 0.9 , 0.95, 1.  ],\n",
       "       dtype=float32),\n",
       " <BarContainer object of 20 artists>)"
      ]
     },
     "execution_count": 48,
     "metadata": {},
     "output_type": "execute_result"
    },
    {
     "data": {
      "image/png": "[encoded data removed]",
      "text/plain": [
       "<Figure size 432x288 with 1 Axes>"
      ]
     },
     "metadata": {
      "needs_background": "light"
     },
     "output_type": "display_data"
    }
   ],
   "source": [
    "hist_data = y_train[1].flatten()\n",
    "plt.hist(hist_data,20)"
   ]
  },
  {
   "cell_type": "code",
   "execution_count": null,
   "id": "ac03458d",
   "metadata": {},
   "outputs": [],
   "source": []
  }
 ],
 "metadata": {
  "kernelspec": {
   "display_name": "Python 3 (ipykernel)",
   "language": "python",
   "name": "python3"
  },
  "language_info": {
   "codemirror_mode": {
    "name": "ipython",
    "version": 3
   },
   "file_extension": ".py",
   "mimetype": "text/x-python",
   "name": "python",
   "nbconvert_exporter": "python",
   "pygments_lexer": "ipython3",
   "version": "3.9.7"
  }
 },
 "nbformat": 4,
 "nbformat_minor": 5
}
